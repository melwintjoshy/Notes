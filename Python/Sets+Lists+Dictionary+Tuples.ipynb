{
 "cells": [
  {
   "cell_type": "markdown",
   "id": "d257acd7",
   "metadata": {},
   "source": [
    "# Sets"
   ]
  },
  {
   "cell_type": "code",
   "execution_count": 8,
   "id": "f3e618fb",
   "metadata": {},
   "outputs": [],
   "source": [
    "set1 = set()"
   ]
  },
  {
   "cell_type": "markdown",
   "id": "005eb842",
   "metadata": {},
   "source": [
    "##  add an element using set.add(value)"
   ]
  },
  {
   "cell_type": "code",
   "execution_count": 9,
   "id": "b473d0a3",
   "metadata": {},
   "outputs": [],
   "source": [
    "set1.add(21)\n",
    "set1.add('stoic')\n",
    "set1.add(True)"
   ]
  },
  {
   "cell_type": "code",
   "execution_count": 10,
   "id": "202ff872",
   "metadata": {},
   "outputs": [
    {
     "data": {
      "text/plain": [
       "{21, True, 'stoic'}"
      ]
     },
     "execution_count": 10,
     "metadata": {},
     "output_type": "execute_result"
    }
   ],
   "source": [
    "set1"
   ]
  },
  {
   "cell_type": "markdown",
   "id": "0e67e9ba",
   "metadata": {},
   "source": [
    "## remove an element using set.remove(value)"
   ]
  },
  {
   "cell_type": "code",
   "execution_count": 11,
   "id": "51f27393",
   "metadata": {},
   "outputs": [],
   "source": [
    "set1.remove(21)"
   ]
  },
  {
   "cell_type": "code",
   "execution_count": 12,
   "id": "ee79ff41",
   "metadata": {},
   "outputs": [
    {
     "data": {
      "text/plain": [
       "{True, 'stoic'}"
      ]
     },
     "execution_count": 12,
     "metadata": {},
     "output_type": "execute_result"
    }
   ],
   "source": [
    "set1"
   ]
  },
  {
   "cell_type": "code",
   "execution_count": 13,
   "id": "c01720f2",
   "metadata": {},
   "outputs": [],
   "source": [
    "#it will throw error if the element is not present in the set "
   ]
  },
  {
   "cell_type": "code",
   "execution_count": 14,
   "id": "1a965618",
   "metadata": {},
   "outputs": [
    {
     "ename": "KeyError",
     "evalue": "33",
     "output_type": "error",
     "traceback": [
      "\u001b[1;31m---------------------------------------------------------------------------\u001b[0m",
      "\u001b[1;31mKeyError\u001b[0m                                  Traceback (most recent call last)",
      "Cell \u001b[1;32mIn[14], line 1\u001b[0m\n\u001b[1;32m----> 1\u001b[0m \u001b[43mset1\u001b[49m\u001b[38;5;241;43m.\u001b[39;49m\u001b[43mremove\u001b[49m\u001b[43m(\u001b[49m\u001b[38;5;241;43m33\u001b[39;49m\u001b[43m)\u001b[49m\n",
      "\u001b[1;31mKeyError\u001b[0m: 33"
     ]
    }
   ],
   "source": [
    "set1.remove(33)"
   ]
  },
  {
   "cell_type": "markdown",
   "id": "7074fc40",
   "metadata": {},
   "source": [
    "## remove an element using set.discard(value) "
   ]
  },
  {
   "cell_type": "code",
   "execution_count": 15,
   "id": "b86ae458",
   "metadata": {},
   "outputs": [],
   "source": [
    "#no error thrown error if the element is not present in the set "
   ]
  },
  {
   "cell_type": "code",
   "execution_count": 16,
   "id": "5166f32c",
   "metadata": {},
   "outputs": [],
   "source": [
    "set1.discard(33)"
   ]
  },
  {
   "cell_type": "code",
   "execution_count": 17,
   "id": "9d3d1f98",
   "metadata": {},
   "outputs": [
    {
     "data": {
      "text/plain": [
       "{True, 'stoic'}"
      ]
     },
     "execution_count": 17,
     "metadata": {},
     "output_type": "execute_result"
    }
   ],
   "source": [
    "set1"
   ]
  },
  {
   "cell_type": "markdown",
   "id": "9915eeca",
   "metadata": {},
   "source": [
    "## removes any random element from the set and returns the removed element - set.pop()"
   ]
  },
  {
   "cell_type": "code",
   "execution_count": 18,
   "id": "52bc7b3c",
   "metadata": {},
   "outputs": [
    {
     "data": {
      "text/plain": [
       "True"
      ]
     },
     "execution_count": 18,
     "metadata": {},
     "output_type": "execute_result"
    }
   ],
   "source": [
    "set1.pop()"
   ]
  },
  {
   "cell_type": "code",
   "execution_count": 19,
   "id": "bc4c7890",
   "metadata": {},
   "outputs": [
    {
     "data": {
      "text/plain": [
       "{'stoic'}"
      ]
     },
     "execution_count": 19,
     "metadata": {},
     "output_type": "execute_result"
    }
   ],
   "source": [
    "set1"
   ]
  },
  {
   "cell_type": "markdown",
   "id": "d9765366",
   "metadata": {},
   "source": [
    "## removing all elements using set.clear()"
   ]
  },
  {
   "cell_type": "code",
   "execution_count": 20,
   "id": "391952c7",
   "metadata": {},
   "outputs": [],
   "source": [
    "set2 = set(['messi', 10, 'argentina', 673, 'stoic'])"
   ]
  },
  {
   "cell_type": "code",
   "execution_count": 21,
   "id": "07e93991",
   "metadata": {},
   "outputs": [
    {
     "data": {
      "text/plain": [
       "{10, 673, 'argentina', 'messi', 'stoic'}"
      ]
     },
     "execution_count": 21,
     "metadata": {},
     "output_type": "execute_result"
    }
   ],
   "source": [
    "set2"
   ]
  },
  {
   "cell_type": "code",
   "execution_count": 22,
   "id": "ebedae13",
   "metadata": {},
   "outputs": [],
   "source": [
    "set2.clear()"
   ]
  },
  {
   "cell_type": "code",
   "execution_count": 23,
   "id": "96d0c8c4",
   "metadata": {},
   "outputs": [
    {
     "data": {
      "text/plain": [
       "set()"
      ]
     },
     "execution_count": 23,
     "metadata": {},
     "output_type": "execute_result"
    }
   ],
   "source": [
    "set2"
   ]
  },
  {
   "cell_type": "markdown",
   "id": "2d94b911",
   "metadata": {},
   "source": [
    "## Union and Intersection"
   ]
  },
  {
   "cell_type": "code",
   "execution_count": 24,
   "id": "33099ca1",
   "metadata": {},
   "outputs": [],
   "source": [
    "even = set([x for x in range(1,10) if x % 2 == 0])\n",
    "odd = set([x for x in range(1,10) if x % 2 == 1])"
   ]
  },
  {
   "cell_type": "code",
   "execution_count": 25,
   "id": "9a2729a1",
   "metadata": {},
   "outputs": [
    {
     "data": {
      "text/plain": [
       "{1, 2, 3, 4, 5, 6, 7, 8, 9}"
      ]
     },
     "execution_count": 25,
     "metadata": {},
     "output_type": "execute_result"
    }
   ],
   "source": [
    "even.union(odd)"
   ]
  },
  {
   "cell_type": "code",
   "execution_count": 26,
   "id": "250a33b0",
   "metadata": {},
   "outputs": [
    {
     "data": {
      "text/plain": [
       "set()"
      ]
     },
     "execution_count": 26,
     "metadata": {},
     "output_type": "execute_result"
    }
   ],
   "source": [
    "even.intersection(odd)"
   ]
  },
  {
   "cell_type": "markdown",
   "id": "4ce6955f",
   "metadata": {},
   "source": [
    "# Lists"
   ]
  },
  {
   "cell_type": "markdown",
   "id": "312a8f1a",
   "metadata": {},
   "source": [
    "## add an element at the end using list.append(value)"
   ]
  },
  {
   "cell_type": "code",
   "execution_count": 27,
   "id": "9f916a91",
   "metadata": {},
   "outputs": [],
   "source": [
    "list1 = [1,2,3]"
   ]
  },
  {
   "cell_type": "code",
   "execution_count": 28,
   "id": "a16add87",
   "metadata": {},
   "outputs": [],
   "source": [
    "list1.append(4)"
   ]
  },
  {
   "cell_type": "code",
   "execution_count": 65,
   "id": "fe039215",
   "metadata": {},
   "outputs": [
    {
     "data": {
      "text/plain": [
       "['a', 2, 3]"
      ]
     },
     "execution_count": 65,
     "metadata": {},
     "output_type": "execute_result"
    }
   ],
   "source": [
    "list1"
   ]
  },
  {
   "cell_type": "markdown",
   "id": "564270e3",
   "metadata": {},
   "source": [
    "## Slicing - list[start : end : step]  return a sublist from start(inclusive) to end(not inclusive)"
   ]
  },
  {
   "cell_type": "code",
   "execution_count": 30,
   "id": "d9241069",
   "metadata": {},
   "outputs": [
    {
     "data": {
      "text/plain": [
       "[1, 2, 3, 4]"
      ]
     },
     "execution_count": 30,
     "metadata": {},
     "output_type": "execute_result"
    }
   ],
   "source": [
    "list1[:]"
   ]
  },
  {
   "cell_type": "code",
   "execution_count": 31,
   "id": "1863e881",
   "metadata": {},
   "outputs": [
    {
     "data": {
      "text/plain": [
       "[2, 3]"
      ]
     },
     "execution_count": 31,
     "metadata": {},
     "output_type": "execute_result"
    }
   ],
   "source": [
    "list1[1:3]"
   ]
  },
  {
   "cell_type": "code",
   "execution_count": 32,
   "id": "f258dad5",
   "metadata": {},
   "outputs": [
    {
     "data": {
      "text/plain": [
       "[4, 3, 2, 1]"
      ]
     },
     "execution_count": 32,
     "metadata": {},
     "output_type": "execute_result"
    }
   ],
   "source": [
    "list1[-1::-1] #reverse a list using slicing"
   ]
  },
  {
   "cell_type": "code",
   "execution_count": 33,
   "id": "2da0198a",
   "metadata": {},
   "outputs": [
    {
     "data": {
      "text/plain": [
       "[3, 4]"
      ]
     },
     "execution_count": 33,
     "metadata": {},
     "output_type": "execute_result"
    }
   ],
   "source": [
    "list1[2:15] #list slicing allows out-of-bound indexing without raising errors"
   ]
  },
  {
   "cell_type": "markdown",
   "id": "0c2097c8",
   "metadata": {},
   "source": [
    "## Some important inbuilt list functions"
   ]
  },
  {
   "cell_type": "markdown",
   "id": "83574b9d",
   "metadata": {},
   "source": [
    "### insert(index, item): Inserts an item at the specified index.\n",
    "\n"
   ]
  },
  {
   "cell_type": "code",
   "execution_count": 34,
   "id": "39fe2c0f",
   "metadata": {},
   "outputs": [],
   "source": [
    "list1.insert(1, 'a')"
   ]
  },
  {
   "cell_type": "code",
   "execution_count": 35,
   "id": "95639930",
   "metadata": {},
   "outputs": [
    {
     "data": {
      "text/plain": [
       "[1, 'a', 2, 3, 4]"
      ]
     },
     "execution_count": 35,
     "metadata": {},
     "output_type": "execute_result"
    }
   ],
   "source": [
    "list1"
   ]
  },
  {
   "cell_type": "markdown",
   "id": "4cf193bb",
   "metadata": {},
   "source": [
    "### remove(item): Removes the first occurrence of the specified item"
   ]
  },
  {
   "cell_type": "code",
   "execution_count": 36,
   "id": "cc7a6339",
   "metadata": {},
   "outputs": [],
   "source": [
    "list1.remove(1)"
   ]
  },
  {
   "cell_type": "code",
   "execution_count": 37,
   "id": "b4dcf7b7",
   "metadata": {},
   "outputs": [
    {
     "data": {
      "text/plain": [
       "['a', 2, 3, 4]"
      ]
     },
     "execution_count": 37,
     "metadata": {},
     "output_type": "execute_result"
    }
   ],
   "source": [
    "list1"
   ]
  },
  {
   "cell_type": "markdown",
   "id": "adfb1d4f",
   "metadata": {},
   "source": [
    "### pop([index]): Removes and returns the item at the specified index. If no index is specified, it removes and returns the last item."
   ]
  },
  {
   "cell_type": "code",
   "execution_count": 38,
   "id": "3d8730da",
   "metadata": {},
   "outputs": [
    {
     "data": {
      "text/plain": [
       "4"
      ]
     },
     "execution_count": 38,
     "metadata": {},
     "output_type": "execute_result"
    }
   ],
   "source": [
    "list1.pop(3) #popped element at index 3"
   ]
  },
  {
   "cell_type": "code",
   "execution_count": 39,
   "id": "1ed32c8d",
   "metadata": {},
   "outputs": [
    {
     "data": {
      "text/plain": [
       "['a', 2, 3]"
      ]
     },
     "execution_count": 39,
     "metadata": {},
     "output_type": "execute_result"
    }
   ],
   "source": [
    "list1"
   ]
  },
  {
   "cell_type": "markdown",
   "id": "5672d086",
   "metadata": {},
   "source": [
    "## list.sort() vs sorted(list) "
   ]
  },
  {
   "cell_type": "markdown",
   "id": "1214f5e6",
   "metadata": {},
   "source": [
    "### sort() \n",
    "- only works on list\n",
    "- return none\n",
    "- modifies the original list\n",
    "- Arguments:\n",
    "    - key: A function that specifies the criteria for sorting.\n",
    "    - reverse: A boolean to sort in descending order (True) or ascending order (False, default).\n",
    "- Syntax:\n",
    "    - list.sort(key=function)\n",
    "           "
   ]
  },
  {
   "cell_type": "code",
   "execution_count": 45,
   "id": "cb070200",
   "metadata": {},
   "outputs": [
    {
     "name": "stdout",
     "output_type": "stream",
     "text": [
      "[1, 2, 3, 4]\n"
     ]
    }
   ],
   "source": [
    "numbers = [4, 1, 3, 2]\n",
    "numbers.sort()  # The list is modified directly.\n",
    "print(numbers)  # Output: [1, 2, 3, 4]"
   ]
  },
  {
   "cell_type": "markdown",
   "id": "1b0b1a74",
   "metadata": {},
   "source": [
    "### sorted()\n",
    "- built in function\n",
    "- works on any iterable\n",
    "- returns a list with sorted elements\n",
    "- does not modify the original list\n",
    "- Arguments:\n",
    "    - key: A function that specifies the criteria for sorting. (Very Useful)\n",
    "    - reverse: A boolean to sort in descending order (True) or ascending order (False, default).\n",
    "- Syntax:\n",
    "    - sorted(iterable, key=function)\n",
    "\n",
    "\n",
    "           "
   ]
  },
  {
   "cell_type": "markdown",
   "id": "3ef7a08f",
   "metadata": {},
   "source": [
    "### Use cases"
   ]
  },
  {
   "cell_type": "markdown",
   "id": "2d511d6a",
   "metadata": {},
   "source": [
    "#### 1.Sort strings ignoring the case."
   ]
  },
  {
   "cell_type": "code",
   "execution_count": 48,
   "id": "e4a51ae1",
   "metadata": {},
   "outputs": [
    {
     "name": "stdout",
     "output_type": "stream",
     "text": [
      "['messi', 'Neymar', 'Pele', 'Ronaldo', 'yamal']\n"
     ]
    }
   ],
   "source": [
    "names = [\"messi\", \"Ronaldo\", \"Pele\", \"Neymar\", \"yamal\"]\n",
    "sorted_names = sorted(names, key=str.lower)\n",
    "print(sorted_names)  \n"
   ]
  },
  {
   "cell_type": "markdown",
   "id": "f268e637",
   "metadata": {},
   "source": [
    "#### 2.Sort strings by their length\n"
   ]
  },
  {
   "cell_type": "code",
   "execution_count": 50,
   "id": "18416e8f",
   "metadata": {},
   "outputs": [
    {
     "name": "stdout",
     "output_type": "stream",
     "text": [
      "['Pele', 'messi', 'yamal', 'Neymar', 'Ronaldo']\n"
     ]
    }
   ],
   "source": [
    "names = [\"messi\", \"Ronaldo\", \"Pele\", \"Neymar\", \"yamal\"]\n",
    "sorted_names = sorted(names, key=len)\n",
    "print(sorted_names)  \n"
   ]
  },
  {
   "cell_type": "markdown",
   "id": "e19e6639",
   "metadata": {},
   "source": [
    "#### 3.Sorting with a Custom Function"
   ]
  },
  {
   "cell_type": "code",
   "execution_count": 51,
   "id": "7b823734",
   "metadata": {},
   "outputs": [
    {
     "name": "stdout",
     "output_type": "stream",
     "text": [
      "['Pele', 'messi', 'yamal', 'Ronaldo', 'Neymar']\n"
     ]
    }
   ],
   "source": [
    "def last_char(s):\n",
    "    return s[-1]\n",
    "\n",
    "words = [\"messi\", \"Ronaldo\", \"Pele\", \"Neymar\", \"yamal\"]\n",
    "sorted_words = sorted(words, key=last_char)\n",
    "print(sorted_words)\n"
   ]
  },
  {
   "cell_type": "markdown",
   "id": "1c1aaac3",
   "metadata": {},
   "source": [
    "#### 4.Sort a list of tuples based on a specific element in each tuple"
   ]
  },
  {
   "cell_type": "code",
   "execution_count": 57,
   "id": "fdfbfb68",
   "metadata": {},
   "outputs": [
    {
     "name": "stdout",
     "output_type": "stream",
     "text": [
      "[(7, 'Ronaldo'), (10, 'Messi'), (11, 'Neymar'), (19, 'Yamal')]\n"
     ]
    }
   ],
   "source": [
    "data = [(19, 'Yamal'), (10, 'Messi'), (7, 'Ronaldo'), (11, 'Neymar')]\n",
    "sorted_data = sorted(data, key=lambda x: x[0])\n",
    "print(sorted_data)  \n"
   ]
  },
  {
   "cell_type": "markdown",
   "id": "d733e9d5",
   "metadata": {},
   "source": [
    "#### Note: Lambda expression - nameless functions\n",
    "- Syntax\n",
    "    - lambda arguments: expression\n",
    "        - lambda: The keyword used to define the function.\n",
    "        - arguments: Comma-separated arguments passed to the lambda.\n",
    "        - expression: A single expression that is evaluated and returned.\n",
    "\n"
   ]
  },
  {
   "cell_type": "code",
   "execution_count": 58,
   "id": "513e7974",
   "metadata": {},
   "outputs": [
    {
     "name": "stdout",
     "output_type": "stream",
     "text": [
      "10\n"
     ]
    }
   ],
   "source": [
    "#simple example\n",
    "double = lambda x: x * 2\n",
    "print(double(5))  \n"
   ]
  },
  {
   "cell_type": "markdown",
   "id": "d435e2fd",
   "metadata": {},
   "source": [
    "#### Use Cases of Lambda Expression"
   ]
  },
  {
   "cell_type": "code",
   "execution_count": 64,
   "id": "9845fd70",
   "metadata": {},
   "outputs": [
    {
     "name": "stdout",
     "output_type": "stream",
     "text": [
      "Squared = [1, 4, 9, 16]\n",
      "Filtered = [2, 4, 6]\n",
      "Sorted = ['Xi', 'Tomy', 'Rocky', 'Charlie', 'Mammooty']\n"
     ]
    }
   ],
   "source": [
    "# 1. With map()\n",
    "# Apply a function to each item in an iterable.\n",
    "\n",
    "numbers = [1, 2, 3, 4]\n",
    "squared = list(map(lambda x: x**2, numbers))\n",
    "print(f\"Squared = {squared}\")\n",
    "\n",
    "# 2. With filter()\n",
    "# Filter elements in an iterable based on a condition.\n",
    "\n",
    "numbers = [1, 2, 3, 4, 5, 6]\n",
    "even_numbers = list(filter(lambda x: x % 2 == 0, numbers))\n",
    "print(f\"Filtered = {even_numbers}\") \n",
    "\n",
    "# 3. With sorted()\n",
    "# Sort elements using a custom key.\n",
    "\n",
    "names = [\"Xi\", \"Rocky\", \"Charlie\", \"Tomy\", \"Mammooty\"]\n",
    "sorted_names = sorted(names, key=lambda x: len(x))\n",
    "print(f\"Sorted = {sorted_names}\")  "
   ]
  },
  {
   "cell_type": "markdown",
   "id": "51a5d033",
   "metadata": {},
   "source": [
    "## List Comprehensions"
   ]
  },
  {
   "cell_type": "markdown",
   "id": "db6f9f0f",
   "metadata": {},
   "source": [
    "### Syntax\n",
    "- [expression $for$ item in iterable $if$ condition]\n"
   ]
  },
  {
   "cell_type": "code",
   "execution_count": 68,
   "id": "692c5971",
   "metadata": {},
   "outputs": [
    {
     "name": "stdout",
     "output_type": "stream",
     "text": [
      "[0, 2, 4, 6, 8]\n"
     ]
    }
   ],
   "source": [
    "#example 1- with a condition\n",
    "evens = [x for x in range(10) if x % 2 == 0]\n",
    "print(evens)  \n"
   ]
  },
  {
   "cell_type": "code",
   "execution_count": 69,
   "id": "9b208fc3",
   "metadata": {},
   "outputs": [
    {
     "name": "stdout",
     "output_type": "stream",
     "text": [
      "['HELLO', 'WORLD']\n"
     ]
    }
   ],
   "source": [
    "#example 2 - Applying a Function \n",
    "words = [\"hello\", \"world\"]\n",
    "uppercase = [word.upper() for word in words]\n",
    "print(uppercase) \n"
   ]
  },
  {
   "cell_type": "code",
   "execution_count": 72,
   "id": "2cebc23e",
   "metadata": {},
   "outputs": [
    {
     "name": "stdout",
     "output_type": "stream",
     "text": [
      "['neymar', 'ronaldo', 'yamal']\n"
     ]
    }
   ],
   "source": [
    "#example 3 - Filtering strings\n",
    "words = [\"messi\", \"neymar\", \"ronaldo\", \"pele\", \"yamal\"]\n",
    "filtered = [word for word in words if 'a' in word]\n",
    "print(filtered) \n"
   ]
  },
  {
   "cell_type": "markdown",
   "id": "0923c89f",
   "metadata": {},
   "source": [
    "# Dictionary\n",
    "   - stores data as key-value pairs\n",
    "   - unordered, mutable, and iterable collection"
   ]
  },
  {
   "cell_type": "markdown",
   "id": "318ddd14",
   "metadata": {},
   "source": [
    "## Syntax\n",
    "- dictionary = {key1: value1, key2: value2, ...}\n"
   ]
  },
  {
   "cell_type": "markdown",
   "id": "a13b974b",
   "metadata": {},
   "source": [
    "## Two ways to intialize a dictionary"
   ]
  },
  {
   "cell_type": "code",
   "execution_count": 87,
   "id": "42115147",
   "metadata": {},
   "outputs": [
    {
     "data": {
      "text/plain": [
       "{'name': 'Messi', 'number': 10}"
      ]
     },
     "execution_count": 87,
     "metadata": {},
     "output_type": "execute_result"
    }
   ],
   "source": [
    "dict1 = {'name' : 'Messi', 'number' : 10}\n",
    "dict1"
   ]
  },
  {
   "cell_type": "code",
   "execution_count": 88,
   "id": "d22bed3b",
   "metadata": {},
   "outputs": [
    {
     "data": {
      "text/plain": [
       "{'name': 'Ronaldo', 'number': 7}"
      ]
     },
     "execution_count": 88,
     "metadata": {},
     "output_type": "execute_result"
    }
   ],
   "source": [
    "dict2 = dict(name = 'Ronaldo', number = 7)\n",
    "dict2"
   ]
  },
  {
   "cell_type": "markdown",
   "id": "f877195a",
   "metadata": {},
   "source": [
    "##  Accessing Values"
   ]
  },
  {
   "cell_type": "code",
   "execution_count": 96,
   "id": "f219384d",
   "metadata": {},
   "outputs": [
    {
     "data": {
      "text/plain": [
       "'Messi'"
      ]
     },
     "execution_count": 96,
     "metadata": {},
     "output_type": "execute_result"
    }
   ],
   "source": [
    "dict1['name']"
   ]
  },
  {
   "cell_type": "code",
   "execution_count": 98,
   "id": "26fe8704",
   "metadata": {},
   "outputs": [
    {
     "ename": "KeyError",
     "evalue": "'club'",
     "output_type": "error",
     "traceback": [
      "\u001b[1;31m---------------------------------------------------------------------------\u001b[0m",
      "\u001b[1;31mKeyError\u001b[0m                                  Traceback (most recent call last)",
      "Cell \u001b[1;32mIn[98], line 1\u001b[0m\n\u001b[1;32m----> 1\u001b[0m \u001b[43mdict1\u001b[49m\u001b[43m[\u001b[49m\u001b[38;5;124;43m'\u001b[39;49m\u001b[38;5;124;43mclub\u001b[39;49m\u001b[38;5;124;43m'\u001b[39;49m\u001b[43m]\u001b[49m\n",
      "\u001b[1;31mKeyError\u001b[0m: 'club'"
     ]
    }
   ],
   "source": [
    "dict1['club'] #throws error if key is not in the dict"
   ]
  },
  {
   "cell_type": "code",
   "execution_count": 100,
   "id": "78a43317",
   "metadata": {},
   "outputs": [
    {
     "data": {
      "text/plain": [
       "'Messi'"
      ]
     },
     "execution_count": 100,
     "metadata": {},
     "output_type": "execute_result"
    }
   ],
   "source": [
    "dict1.get('name')"
   ]
  },
  {
   "cell_type": "code",
   "execution_count": 109,
   "id": "b6a1c218",
   "metadata": {},
   "outputs": [
    {
     "name": "stdout",
     "output_type": "stream",
     "text": [
      "None\n"
     ]
    }
   ],
   "source": [
    "club = dict1.get('club', None) #Avoid errors if the key does not exist. \n",
    "                               #If key doesn't exits, we can set it to some default value like None\n",
    "print(club)                    #Dictionary is not modified"
   ]
  },
  {
   "cell_type": "code",
   "execution_count": 108,
   "id": "3a62fc73",
   "metadata": {},
   "outputs": [
    {
     "data": {
      "text/plain": [
       "{'name': 'Messi', 'number': 10, 'country': 'argentina'}"
      ]
     },
     "execution_count": 108,
     "metadata": {},
     "output_type": "execute_result"
    }
   ],
   "source": [
    "dict1"
   ]
  },
  {
   "cell_type": "markdown",
   "id": "d1a0aa2a",
   "metadata": {},
   "source": [
    "## Adding/Updating Key-Value Pairs\n"
   ]
  },
  {
   "cell_type": "code",
   "execution_count": 110,
   "id": "7bac741a",
   "metadata": {},
   "outputs": [
    {
     "data": {
      "text/plain": [
       "{'name': 'Messi', 'number': 10, 'country': 'argentina'}"
      ]
     },
     "execution_count": 110,
     "metadata": {},
     "output_type": "execute_result"
    }
   ],
   "source": [
    "dict1['country'] = 'argentina'\n",
    "dict1"
   ]
  },
  {
   "cell_type": "code",
   "execution_count": 118,
   "id": "1d791535",
   "metadata": {},
   "outputs": [],
   "source": [
    "#updating name\n",
    "dict1['name'] = \"Lionel Messi\""
   ]
  },
  {
   "cell_type": "code",
   "execution_count": 119,
   "id": "1a880af7",
   "metadata": {},
   "outputs": [
    {
     "data": {
      "text/plain": [
       "{'name': 'Lionel Messi', 'number': 10, 'country': 'argentina'}"
      ]
     },
     "execution_count": 119,
     "metadata": {},
     "output_type": "execute_result"
    }
   ],
   "source": [
    "dict1"
   ]
  },
  {
   "cell_type": "markdown",
   "id": "5a306386",
   "metadata": {},
   "source": [
    "### updating using dict.update()"
   ]
  },
  {
   "cell_type": "code",
   "execution_count": 120,
   "id": "c028a926",
   "metadata": {},
   "outputs": [],
   "source": [
    "dict1.update({'name':'Lionel Andre Messi'})"
   ]
  },
  {
   "cell_type": "code",
   "execution_count": 121,
   "id": "b8fbc9d2",
   "metadata": {},
   "outputs": [
    {
     "data": {
      "text/plain": [
       "{'name': 'Lionel Andre Messi', 'number': 10, 'country': 'argentina'}"
      ]
     },
     "execution_count": 121,
     "metadata": {},
     "output_type": "execute_result"
    }
   ],
   "source": [
    "dict1"
   ]
  },
  {
   "cell_type": "markdown",
   "id": "c0f5a549",
   "metadata": {},
   "source": [
    "## Removing Key-Value Pairs"
   ]
  },
  {
   "cell_type": "markdown",
   "id": "600684c5",
   "metadata": {},
   "source": [
    "### dict.pop('key'): Removes a key and returns its value.\n",
    "### del dict['key'] : Deletes a key-value pair."
   ]
  },
  {
   "cell_type": "code",
   "execution_count": 123,
   "id": "9044b79a",
   "metadata": {},
   "outputs": [],
   "source": [
    "dict1.pop(\"country\")  \n",
    "del dict1[\"number\"]\n"
   ]
  },
  {
   "cell_type": "code",
   "execution_count": 124,
   "id": "568cba6b",
   "metadata": {},
   "outputs": [
    {
     "data": {
      "text/plain": [
       "{'name': 'Lionel Andre Messi'}"
      ]
     },
     "execution_count": 124,
     "metadata": {},
     "output_type": "execute_result"
    }
   ],
   "source": [
    "dict1"
   ]
  },
  {
   "cell_type": "markdown",
   "id": "06e7a0b3",
   "metadata": {},
   "source": [
    "## Iterating Over Keys"
   ]
  },
  {
   "cell_type": "code",
   "execution_count": 127,
   "id": "69cdd5da",
   "metadata": {},
   "outputs": [],
   "source": [
    "person = {\"name\": \"Alice\", \"age\": 25, \"city\": \"New York\"}"
   ]
  },
  {
   "cell_type": "code",
   "execution_count": 128,
   "id": "0f8e899b",
   "metadata": {},
   "outputs": [
    {
     "name": "stdout",
     "output_type": "stream",
     "text": [
      "name\n",
      "age\n",
      "city\n"
     ]
    }
   ],
   "source": [
    "for key in person.keys():\n",
    "    print(key)"
   ]
  },
  {
   "cell_type": "markdown",
   "id": "05b8c3c0",
   "metadata": {},
   "source": [
    "## Iterating Over Values"
   ]
  },
  {
   "cell_type": "code",
   "execution_count": 129,
   "id": "205a6aed",
   "metadata": {},
   "outputs": [
    {
     "name": "stdout",
     "output_type": "stream",
     "text": [
      "Alice\n",
      "25\n",
      "New York\n"
     ]
    }
   ],
   "source": [
    "for value in person.values():\n",
    "    print(value)"
   ]
  },
  {
   "cell_type": "markdown",
   "id": "f98268bd",
   "metadata": {},
   "source": [
    "## Iterating Over Key-Value Pairs"
   ]
  },
  {
   "cell_type": "code",
   "execution_count": 130,
   "id": "c43b4d8a",
   "metadata": {},
   "outputs": [
    {
     "name": "stdout",
     "output_type": "stream",
     "text": [
      "name: Alice\n",
      "age: 25\n",
      "city: New York\n"
     ]
    }
   ],
   "source": [
    "for key, value in person.items():\n",
    "    print(f\"{key}: {value}\")"
   ]
  },
  {
   "cell_type": "markdown",
   "id": "d7e13066",
   "metadata": {},
   "source": [
    "# Tuples\n",
    "   - ordered\n",
    "   - immutable\n",
    "   - takes less memory compared to lists\n",
    "   - Elements can be accessed using their index\n",
    "   - Slicing can be performed"
   ]
  },
  {
   "cell_type": "code",
   "execution_count": 131,
   "id": "d8148c21",
   "metadata": {},
   "outputs": [],
   "source": [
    "tuple1 = ()"
   ]
  },
  {
   "cell_type": "code",
   "execution_count": 133,
   "id": "85cb1be4",
   "metadata": {},
   "outputs": [],
   "source": [
    "ex_1 = ('a') \n",
    "ex_2 = ('a',)"
   ]
  },
  {
   "cell_type": "code",
   "execution_count": 137,
   "id": "374dc112",
   "metadata": {},
   "outputs": [
    {
     "data": {
      "text/plain": [
       "'a'"
      ]
     },
     "execution_count": 137,
     "metadata": {},
     "output_type": "execute_result"
    }
   ],
   "source": [
    "ex_1  #this is a string. To make it a tuple when ony one element is there, we have to add a comma \n",
    "                         # at the end"
   ]
  },
  {
   "cell_type": "code",
   "execution_count": 138,
   "id": "071fb708",
   "metadata": {},
   "outputs": [
    {
     "data": {
      "text/plain": [
       "('a',)"
      ]
     },
     "execution_count": 138,
     "metadata": {},
     "output_type": "execute_result"
    }
   ],
   "source": [
    "ex_2  #this is a tuple."
   ]
  },
  {
   "cell_type": "code",
   "execution_count": 141,
   "id": "cd051791",
   "metadata": {},
   "outputs": [],
   "source": [
    "tuple1 = 1, 2, 3 #another way to create tuples\n",
    "                 #paranthesis is not used"
   ]
  },
  {
   "cell_type": "code",
   "execution_count": 142,
   "id": "e3c2a89d",
   "metadata": {},
   "outputs": [
    {
     "data": {
      "text/plain": [
       "(1, 2, 3)"
      ]
     },
     "execution_count": 142,
     "metadata": {},
     "output_type": "execute_result"
    }
   ],
   "source": [
    "tuple1"
   ]
  },
  {
   "cell_type": "code",
   "execution_count": 143,
   "id": "93843b2b",
   "metadata": {},
   "outputs": [],
   "source": [
    "jerseyNum = (10, 7, 11) #packing\n",
    "messi , cristiano, neymar = jerseyNum #unpacking"
   ]
  },
  {
   "cell_type": "code",
   "execution_count": 145,
   "id": "f83c62e5",
   "metadata": {},
   "outputs": [
    {
     "name": "stdout",
     "output_type": "stream",
     "text": [
      "Jersey number of Messi is 10\n",
      "Jersey number of Cristiano is 7\n",
      "Jersey number of Neymar is 11\n"
     ]
    }
   ],
   "source": [
    "print(f\"Jersey number of Messi is {messi}\")\n",
    "print(f\"Jersey number of Cristiano is {cristiano}\")\n",
    "print(f\"Jersey number of Neymar is {neymar}\")"
   ]
  },
  {
   "cell_type": "markdown",
   "id": "08f9f25e",
   "metadata": {},
   "source": [
    "## Important use cases of Tuples"
   ]
  },
  {
   "cell_type": "markdown",
   "id": "7c2528e8",
   "metadata": {},
   "source": [
    "#### Returning Multiple Values from Functions"
   ]
  },
  {
   "cell_type": "code",
   "execution_count": 147,
   "id": "203c0af2",
   "metadata": {},
   "outputs": [
    {
     "name": "stdout",
     "output_type": "stream",
     "text": [
      "(1, 4)\n"
     ]
    }
   ],
   "source": [
    "def get_min_max(numbers):\n",
    "    return min(numbers), max(numbers)\n",
    "\n",
    "result = get_min_max([1, 2, 3, 4])\n",
    "print(result) "
   ]
  },
  {
   "cell_type": "markdown",
   "id": "b35785ee",
   "metadata": {},
   "source": [
    "#### Used as keys in dictionaries since they are hashable\n"
   ]
  },
  {
   "cell_type": "code",
   "execution_count": 149,
   "id": "0f99598f",
   "metadata": {},
   "outputs": [
    {
     "name": "stdout",
     "output_type": "stream",
     "text": [
      "10\n"
     ]
    }
   ],
   "source": [
    "my_dict = {(\"x\", \"y\"): 10}\n",
    "print(my_dict[(\"x\", \"y\")])"
   ]
  }
 ],
 "metadata": {
  "kernelspec": {
   "display_name": "Python 3 (ipykernel)",
   "language": "python",
   "name": "python3"
  },
  "language_info": {
   "codemirror_mode": {
    "name": "ipython",
    "version": 3
   },
   "file_extension": ".py",
   "mimetype": "text/x-python",
   "name": "python",
   "nbconvert_exporter": "python",
   "pygments_lexer": "ipython3",
   "version": "3.10.9"
  }
 },
 "nbformat": 4,
 "nbformat_minor": 5
}
