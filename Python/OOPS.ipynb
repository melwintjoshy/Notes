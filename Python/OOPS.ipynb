{
 "cells": [
  {
   "cell_type": "markdown",
   "id": "c0d79fb4",
   "metadata": {},
   "source": [
    "- A class is a collection of objects.\n",
    "A class contains the blueprints or the prototype from which the objects \n",
    "are being created."
   ]
  },
  {
   "cell_type": "markdown",
   "id": "9a3acada",
   "metadata": {},
   "source": [
    "- Attributes created in __init__() are called instance attributes."
   ]
  },
  {
   "cell_type": "markdown",
   "id": "5ac2ab13",
   "metadata": {},
   "source": [
    "- Class attributes are attributes that have the same value for all class instances. \n",
    "We can define a class attribute by assigning a value to a variable name outside of __ init __ ()"
   ]
  },
  {
   "cell_type": "markdown",
   "id": "810e66c8",
   "metadata": {},
   "source": [
    "- Methods like .__ init __ () and .__ str__() are called dunder methods because they begin and end with double underscores. "
   ]
  },
  {
   "cell_type": "markdown",
   "id": "3652cff1",
   "metadata": {},
   "source": [
    "- Inheritance in python:\n",
    "    \n",
    "    - Inheritance allows us to define a class that inherits all the methods and properties\n",
    "        from another class.\n",
    "    - Parent class is the class being inherited from, also called base class or super class. \n",
    "    - Child class is the class that inherits from another class, also called derived class or sub class."
   ]
  },
  {
   "cell_type": "code",
   "execution_count": 5,
   "id": "f784b168",
   "metadata": {},
   "outputs": [
    {
     "data": {
      "text/plain": [
       "True"
      ]
     },
     "execution_count": 5,
     "metadata": {},
     "output_type": "execute_result"
    }
   ],
   "source": [
    "class Parent: #parent class\n",
    "    pass\n",
    "class Child(Parent):  #child class\n",
    "    pass\n",
    "issubclass(Child, Parent)"
   ]
  },
  {
   "cell_type": "markdown",
   "id": "d8f5d243",
   "metadata": {},
   "source": [
    "#### Different types of Inheritance"
   ]
  },
  {
   "cell_type": "markdown",
   "id": "d45a872e",
   "metadata": {},
   "source": [
    "- 1. Single Inheritance \n",
    "    - A child class inherits from one parent class."
   ]
  },
  {
   "cell_type": "markdown",
   "id": "16288ccc",
   "metadata": {},
   "source": [
    "- 2. Multiple Inheritance\n",
    "    - A child class inherits from more than one parent class."
   ]
  },
  {
   "cell_type": "code",
   "execution_count": 9,
   "id": "05d5e35b",
   "metadata": {},
   "outputs": [],
   "source": [
    "class Parent1:\n",
    "    def greet(self):\n",
    "        print(\"Hello from Parent1\")\n",
    "\n",
    "class Parent2:\n",
    "    def welcome(self):\n",
    "        print(\"Welcome from Parent2\")\n",
    "\n",
    "class Child(Parent1, Parent2): #multiple parents\n",
    "    pass"
   ]
  },
  {
   "cell_type": "markdown",
   "id": "497b2097",
   "metadata": {},
   "source": [
    "- 3. Multilevel Inheritance\n",
    "    - A child class inherits from a parent class, and this parent class itself is a child of another class."
   ]
  },
  {
   "cell_type": "code",
   "execution_count": 14,
   "id": "23febb60",
   "metadata": {},
   "outputs": [
    {
     "name": "stdout",
     "output_type": "stream",
     "text": [
      "Hello from GrandParent\n"
     ]
    }
   ],
   "source": [
    "class GrandParent:\n",
    "    def say_hello(self):\n",
    "        print(\"Hello from GrandParent\")\n",
    "\n",
    "class Parent(GrandParent):\n",
    "    pass\n",
    "\n",
    "class Child(Parent):\n",
    "    pass\n",
    "\n",
    "obj = Child()\n",
    "obj.say_hello()  "
   ]
  },
  {
   "cell_type": "markdown",
   "id": "80cdd523",
   "metadata": {},
   "source": [
    "- 4. Hierarchical Inheritance\n",
    "    - Multiple child classes inherit from the same parent class"
   ]
  },
  {
   "cell_type": "markdown",
   "id": "60a82de0",
   "metadata": {},
   "source": [
    "- 5. Hybrid Inheritance\n",
    "    - it is a combination of any two kinds of inheritance."
   ]
  },
  {
   "cell_type": "markdown",
   "id": "58fee10c",
   "metadata": {},
   "source": [
    "- .Super()\n",
    "    - With inheritance, it allows us to call a method from the parent class."
   ]
  },
  {
   "cell_type": "code",
   "execution_count": 17,
   "id": "115a13e0",
   "metadata": {},
   "outputs": [
    {
     "name": "stdout",
     "output_type": "stream",
     "text": [
      "Hello from Parent\n",
      "Hello from Child\n"
     ]
    }
   ],
   "source": [
    "class Parent:\n",
    "    def greet(self):\n",
    "        print(\"Hello from Parent\")\n",
    "\n",
    "class Child(Parent):\n",
    "    def greet(self):\n",
    "        super().greet() # Call the Parent class method using super()\n",
    "        print(\"Hello from Child\")\n",
    "\n",
    "# Create an instance of Child\n",
    "child = Child()\n",
    "child.greet()\n"
   ]
  },
  {
   "cell_type": "markdown",
   "id": "3ff44889",
   "metadata": {},
   "source": [
    "- Python doesn’t support method overloading."
   ]
  },
  {
   "cell_type": "markdown",
   "id": "df0cf166",
   "metadata": {},
   "source": [
    "#### Operator Overloading"
   ]
  },
  {
   "cell_type": "markdown",
   "id": "49bd78a1",
   "metadata": {},
   "source": [
    "- Operator overloading in Python allows you to define or modify the behavior of operators (like +, -, *, etc.) for custom objects. "
   ]
  },
  {
   "cell_type": "code",
   "execution_count": 20,
   "id": "d8d72071",
   "metadata": {},
   "outputs": [
    {
     "name": "stdout",
     "output_type": "stream",
     "text": [
      "Point(4, 6)\n"
     ]
    }
   ],
   "source": [
    "class Point:\n",
    "    def __init__(self, x, y):\n",
    "        self.x = x\n",
    "        self.y = y\n",
    "\n",
    "    def __add__(self, other): #overloading + operator\n",
    "        return Point(self.x + other.x, self.y + other.y)\n",
    "\n",
    "    def __str__(self):\n",
    "        return f\"Point({self.x}, {self.y})\"\n",
    "\n",
    "# Create two points\n",
    "p1 = Point(1, 2)\n",
    "p2 = Point(3, 4)\n",
    "\n",
    "# Add two points\n",
    "p3 = p1 + p2  \n",
    "print(p3)     \n"
   ]
  },
  {
   "cell_type": "raw",
   "id": "3b393e77",
   "metadata": {},
   "source": [
    "Operator\tMethod\t       Example Use Case\n",
    "+\t       __add__\t    Add two custom objects\n",
    "-\t       __sub__\t    Subtract two custom objects\n",
    "*\t       __mul__\t    Multiply custom objects\n",
    "/\t     __truediv__    Divide custom objects\n",
    "%\t       __mod__\t        Find modulus\n",
    "==\t\t   __eq__\t\t    Check equality\n",
    "!=\t\t   __ne__\t\t\tCheck inequality\n",
    "<\t\t   __lt__\t\t\tCheck less-than\n",
    "<=\t\t   __le__\t    Check less-than-or-equal\n",
    ">\t\t   __gt__\t    Check greater-than\n",
    ">=\t\t   __ge__\t    Check greater-than-or-equal\n",
    "str()\t   __str__\t      String representation"
   ]
  },
  {
   "cell_type": "markdown",
   "id": "f7a977a8",
   "metadata": {},
   "source": [
    "- Method overriding\n",
    "    - A subclass may change the functionality of a Python method in the superclass.\n",
    "It does so by redefining it.\n",
    "This is termed python method overriding."
   ]
  },
  {
   "cell_type": "code",
   "execution_count": 25,
   "id": "85406732",
   "metadata": {},
   "outputs": [
    {
     "name": "stdout",
     "output_type": "stream",
     "text": [
      "I'm in A\n",
      "I'm in B\n"
     ]
    }
   ],
   "source": [
    "class A:\n",
    "        def sayhi(self):\n",
    "            print(\"I'm in A\")                          \n",
    "class B(A):\n",
    "        \n",
    "        def sayhi(self):\n",
    "           print(\"I'm in B\")                             \n",
    "        \n",
    "aobj=A()\n",
    "aobj.sayhi()\n",
    "\n",
    "bobj=B()\n",
    "bobj.sayhi()"
   ]
  }
 ],
 "metadata": {
  "kernelspec": {
   "display_name": "Python 3 (ipykernel)",
   "language": "python",
   "name": "python3"
  },
  "language_info": {
   "codemirror_mode": {
    "name": "ipython",
    "version": 3
   },
   "file_extension": ".py",
   "mimetype": "text/x-python",
   "name": "python",
   "nbconvert_exporter": "python",
   "pygments_lexer": "ipython3",
   "version": "3.10.9"
  }
 },
 "nbformat": 4,
 "nbformat_minor": 5
}
