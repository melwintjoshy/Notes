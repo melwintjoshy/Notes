{
 "cells": [
  {
   "cell_type": "markdown",
   "id": "325e4d8e",
   "metadata": {},
   "source": [
    "# Map()"
   ]
  },
  {
   "cell_type": "markdown",
   "id": "4ba6ca26",
   "metadata": {},
   "source": [
    "- Data : a1, a2, ... ,an\n",
    "- Function : f\n",
    "- Syntax\n",
    "    - map(f, data):\n",
    "        - returns iterator over\n",
    "      $f(a1), f(a2), ... , f(an)$"
   ]
  },
  {
   "cell_type": "code",
   "execution_count": 1,
   "id": "0bd68e14",
   "metadata": {},
   "outputs": [
    {
     "name": "stdout",
     "output_type": "stream",
     "text": [
      "[2, 4, 6, 8]\n"
     ]
    }
   ],
   "source": [
    "numbers = [1, 2, 3, 4]\n",
    "result = map(lambda x: x * 2, numbers)\n",
    "print(list(result)) \n"
   ]
  },
  {
   "cell_type": "markdown",
   "id": "565a8cda",
   "metadata": {},
   "source": [
    "# Filter()"
   ]
  },
  {
   "cell_type": "markdown",
   "id": "c6e6d2f5",
   "metadata": {},
   "source": [
    "-  Filters items from an iterable based on whether they satisfy a given condition (return True or False) and returns a filter object.\n",
    "- Syntax\n",
    "    - filter(function, iterable)\n"
   ]
  },
  {
   "cell_type": "code",
   "execution_count": 2,
   "id": "4a80f683",
   "metadata": {},
   "outputs": [
    {
     "name": "stdout",
     "output_type": "stream",
     "text": [
      "[2, 4, 6]\n"
     ]
    }
   ],
   "source": [
    "numbers = [1, 2, 3, 4, 5, 6]\n",
    "even = filter(lambda x: x % 2 == 0, numbers)\n",
    "print(list(even))  "
   ]
  },
  {
   "cell_type": "markdown",
   "id": "38432a76",
   "metadata": {},
   "source": [
    "#### Another use case:  to remove missing values"
   ]
  },
  {
   "cell_type": "code",
   "execution_count": 3,
   "id": "db72e458",
   "metadata": {},
   "outputs": [],
   "source": [
    "players = ['', 'Messi', \"Ronaldo\", '', '', \"Neymar\"]"
   ]
  },
  {
   "cell_type": "code",
   "execution_count": 4,
   "id": "6964463b",
   "metadata": {},
   "outputs": [
    {
     "data": {
      "text/plain": [
       "['', 'Messi', 'Ronaldo', '', '', 'Neymar']"
      ]
     },
     "execution_count": 4,
     "metadata": {},
     "output_type": "execute_result"
    }
   ],
   "source": [
    "players"
   ]
  },
  {
   "cell_type": "code",
   "execution_count": 5,
   "id": "2781c532",
   "metadata": {},
   "outputs": [],
   "source": [
    "cleaned = list(filter(None, players))"
   ]
  },
  {
   "cell_type": "code",
   "execution_count": 6,
   "id": "8241f495",
   "metadata": {},
   "outputs": [
    {
     "data": {
      "text/plain": [
       "['Messi', 'Ronaldo', 'Neymar']"
      ]
     },
     "execution_count": 6,
     "metadata": {},
     "output_type": "execute_result"
    }
   ],
   "source": [
    "cleaned"
   ]
  },
  {
   "cell_type": "markdown",
   "id": "54210237",
   "metadata": {},
   "source": [
    "# Reduce()\n",
    "-  Applies a rolling computation to pairs of items in an iterable, reducing it to a single value.\n",
    "- Syntax \n",
    "    - from functools import reduce\n",
    "    - reduce(function, iterable, initializer)\n"
   ]
  },
  {
   "cell_type": "code",
   "execution_count": 7,
   "id": "c614e067",
   "metadata": {},
   "outputs": [
    {
     "name": "stdout",
     "output_type": "stream",
     "text": [
      "24\n"
     ]
    }
   ],
   "source": [
    "from functools import reduce\n",
    "numbers = [1, 2, 3, 4]\n",
    "result = reduce(lambda x, y: x * y, numbers)\n",
    "print(result) "
   ]
  },
  {
   "cell_type": "code",
   "execution_count": 8,
   "id": "45e92037",
   "metadata": {},
   "outputs": [
    {
     "name": "stdout",
     "output_type": "stream",
     "text": [
      "24\n"
     ]
    }
   ],
   "source": [
    "# the same can be done using for loop\n",
    "numbers = [1, 2, 3, 4]\n",
    "result = 1\n",
    "for num in numbers:\n",
    "    result = result * num\n",
    "print(result)"
   ]
  }
 ],
 "metadata": {
  "kernelspec": {
   "display_name": "Python 3 (ipykernel)",
   "language": "python",
   "name": "python3"
  },
  "language_info": {
   "codemirror_mode": {
    "name": "ipython",
    "version": 3
   },
   "file_extension": ".py",
   "mimetype": "text/x-python",
   "name": "python",
   "nbconvert_exporter": "python",
   "pygments_lexer": "ipython3",
   "version": "3.10.9"
  }
 },
 "nbformat": 4,
 "nbformat_minor": 5
}
